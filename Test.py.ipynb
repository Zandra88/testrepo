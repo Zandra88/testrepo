{
 "cells": [
  {
   "cell_type": "markdown",
   "id": "648b17e7",
   "metadata": {},
   "source": [
    "# Notebook\n"
   ]
  },
  {
   "cell_type": "markdown",
   "id": "b5daede6",
   "metadata": {},
   "source": [
    "# Introduction\n",
    "\n",
    "This notebook illustrates the things i have left sofar, since taking the IBM Data Science Course on Coursera"
   ]
  },
  {
   "cell_type": "markdown",
   "id": "2483256a",
   "metadata": {},
   "source": [
    "## Data Science Languages\n",
    "\n",
    "Some data science languages includes:\n",
    "\n",
    "1. Python\n",
    "2. R\n",
    "3. SQL\n",
    "4. Scala\n",
    "5. Java\n",
    "6. julia\n",
    "7. C++\n",
    "8. JavaScript\n",
    "9. php\n",
    "10. Ruby\n",
    "11. Visual Basic"
   ]
  },
  {
   "cell_type": "markdown",
   "id": "08c02c71",
   "metadata": {},
   "source": [
    "# Data Science Libraries\n",
    "\n",
    "Libraries are used to collect functions and methods that will allow to perform many actions while writing codes. The libraries includes the folowing:\n",
    "\n",
    "1. Python Libraries; this includes\n",
    "a. Scientific computing libraries in python; This contains built-in modulus prividing different functionalities called framework. Examples are Pandas(data structures and tools) and Numpy (for Arrays and Matrices).\n",
    "b. Visualization libraries in python; This is to communicate with otheres by displaying meaningful results of an analysis. Examples are Matplotlib (plots and graph) and Seaborn (plots like heatmaps, timeseries etc).\n",
    "c. High level Machine learning and deep learning; Examples includes;\n",
    "Scikit-learn (machine learning library used for regression, classification and clustering)\n",
    "Keras(Deep learning library using neutal networks)\n",
    "Tensorflow(Deep learning library used for production and Deployment)\n",
    "PyTorch (Deep learning library used for regression, classification)\n",
    "\n",
    "2. Scala Libraries;\n",
    "vegas- used for statistical visualization\n",
    "\n",
    "3. R libraries;\n",
    "ggplot for data visualization\n",
    "\n",
    "\n"
   ]
  },
  {
   "cell_type": "markdown",
   "id": "0f766844",
   "metadata": {},
   "source": [
    "# Data Science Tools\n",
    "\n",
    "Tools that supports data science includes;\n",
    "1. Data Management like Oracle database, Microsoft SQL server, IBM DB2\n",
    "2. Data Asset Management (Digital Asset Management) or DAM; Includes data governance,data dictionary, IBM Infosphere, Informatoon governance catalog\n",
    "3. Data Integration and Transformation; includes Informaticca, IBM Infosphere Datastage, IBM watson studio desktop\n",
    "4. Data Visualization; includes; tableau, IBM Cognos Analytics, IBM studio desktop\n",
    "5. Model Building; includes; SPSS moduler, SaS, IBM watson studio desktop\n",
    "6. Model Deployment\n",
    "7. Model Monitoring and Code Asset Management\n",
    "8. Deployment Environment; includes; Watson studio desktop\n"
   ]
  },
  {
   "cell_type": "markdown",
   "id": "860eaf74",
   "metadata": {},
   "source": [
    "# Arithmetic Expression\n",
    "\n",
    "Below are some simple arithmetic expressions that can be performed on jupyter notebook\n",
    "\n",
    "* Addition (+)\n",
    "* Subdtration (-)\n",
    "* Multiplication (*)\n",
    "* Division (/)\n",
    "* Exponential (**)\n",
    "* Modulus (%)\n",
    "* Integer division (//)"
   ]
  },
  {
   "cell_type": "code",
   "execution_count": 1,
   "id": "8f1ac952",
   "metadata": {},
   "outputs": [
    {
     "data": {
      "text/plain": [
       "5"
      ]
     },
     "execution_count": 1,
     "metadata": {},
     "output_type": "execute_result"
    }
   ],
   "source": [
    "# Addition arithemetic expression\n",
    "2 + 3"
   ]
  },
  {
   "cell_type": "code",
   "execution_count": 2,
   "id": "0e5e53c4",
   "metadata": {},
   "outputs": [
    {
     "data": {
      "text/plain": [
       "6"
      ]
     },
     "execution_count": 2,
     "metadata": {},
     "output_type": "execute_result"
    }
   ],
   "source": [
    "# Multiplication arithmetic expression\n",
    "2 * 3"
   ]
  },
  {
   "cell_type": "code",
   "execution_count": 4,
   "id": "84b0b562",
   "metadata": {},
   "outputs": [
    {
     "name": "stdout",
     "output_type": "stream",
     "text": [
      "5\n",
      "6\n",
      "5 6\n"
     ]
    }
   ],
   "source": [
    "# Addition and Multiplication  arithemetic expressions\n",
    "a = 2\n",
    "b = 3\n",
    "c = a + b\n",
    "d = a * b\n",
    "\n",
    "print(c)\n",
    "print(d)\n",
    "print(c, d)"
   ]
  },
  {
   "cell_type": "code",
   "execution_count": 12,
   "id": "aa55e670",
   "metadata": {},
   "outputs": [
    {
     "name": "stdout",
     "output_type": "stream",
     "text": [
      "Enter time in minutes 120\n",
      "The time is 2 o'clock\n"
     ]
    }
   ],
   "source": [
    "# Converting minutes to hours\n",
    "\n",
    "minutes = int(input(\"Enter time in minutes \"))\n",
    "hour = int(minutes / 60)\n",
    "\n",
    "print(f\"The time is {hour} o'clock\")"
   ]
  },
  {
   "cell_type": "markdown",
   "id": "ce448abd",
   "metadata": {},
   "source": [
    "## List Objectives\n",
    "\n",
    "The Objectives of this notebook is to;\n",
    "\n",
    "1. Creat a Jupyter Notebook\n",
    "2. Create a Markdown cell with the title notebook\n",
    "3. Create a Markdown cell for an introduction\n",
    "4. Create a Markdown cell to list data science languages\n",
    "5. Create a Markdown cell to list data science libraries\n",
    "6. Create a Markdown cell witha table of data science tools\n",
    "7. Create a Markdown cell introducing arithmetic expression examples\n",
    "8. Create a code cell to multiply and add numbers\n",
    "9. Create a code cell to convert minutes to hours\n"
   ]
  },
  {
   "cell_type": "markdown",
   "id": "b7a21926",
   "metadata": {},
   "source": [
    "## Author's Name\n",
    "\n",
    "### Zandra Omowunmi Owotunse\n"
   ]
  },
  {
   "cell_type": "code",
   "execution_count": null,
   "id": "e462ebe2",
   "metadata": {},
   "outputs": [],
   "source": []
  }
 ],
 "metadata": {
  "kernelspec": {
   "display_name": "Python 3 (ipykernel)",
   "language": "python",
   "name": "python3"
  },
  "language_info": {
   "codemirror_mode": {
    "name": "ipython",
    "version": 3
   },
   "file_extension": ".py",
   "mimetype": "text/x-python",
   "name": "python",
   "nbconvert_exporter": "python",
   "pygments_lexer": "ipython3",
   "version": "3.11.3"
  }
 },
 "nbformat": 4,
 "nbformat_minor": 5
}
